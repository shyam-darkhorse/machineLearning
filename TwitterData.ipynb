{
  "nbformat": 4,
  "nbformat_minor": 0,
  "metadata": {
    "colab": {
      "name": "TwitterData.ipynb",
      "version": "0.3.2",
      "provenance": [],
      "collapsed_sections": [],
      "include_colab_link": true
    },
    "kernelspec": {
      "name": "python3",
      "display_name": "Python 3"
    }
  },
  "cells": [
    {
      "cell_type": "markdown",
      "metadata": {
        "id": "view-in-github",
        "colab_type": "text"
      },
      "source": [
        "<a href=\"https://colab.research.google.com/github/shyam-darkhorse/machineLearning/blob/master/TwitterData.ipynb\" target=\"_parent\"><img src=\"https://colab.research.google.com/assets/colab-badge.svg\" alt=\"Open In Colab\"/></a>"
      ]
    },
    {
      "cell_type": "code",
      "metadata": {
        "id": "DqmHgagiLX2r",
        "colab_type": "code",
        "colab": {}
      },
      "source": [
        "import tweepy\n",
        "consumer_key = \"u5rtT4Esro4z1TCaQlZA1mpun\"\n",
        "consumer_secret = \"Ul703KQLO4lOuUrGCLzWffiwDJlbOM3KrIrEX9IYPvcjTvXqPH\"\n",
        "access_token = \"748884452613365761-Z79hxJP73f2xAAiRxMajrBR1paK6O0E\"\n",
        "access_token_secret = \"HSr2RrJ2KijyQMO4zxkqmCxVaOicZ7SvFhF02A8kpmVnP\""
      ],
      "execution_count": 0,
      "outputs": []
    },
    {
      "cell_type": "code",
      "metadata": {
        "id": "JSWuS1hhLhW7",
        "colab_type": "code",
        "colab": {}
      },
      "source": [
        "# Creating the authentication object\n",
        "auth = tweepy.OAuthHandler(consumer_key, consumer_secret)\n",
        "# Setting your access token and secret\n",
        "auth.set_access_token(access_token, access_token_secret)\n",
        "# Creating the API object while passing in auth information\n",
        "api = tweepy.API(auth) \n"
      ],
      "execution_count": 0,
      "outputs": []
    },
    {
      "cell_type": "code",
      "metadata": {
        "id": "4IdVFElcLu3U",
        "colab_type": "code",
        "colab": {
          "base_uri": "https://localhost:8080/",
          "height": 374
        },
        "outputId": "7342c6ce-7a79-4117-fbc7-e21aec5db8e0"
      },
      "source": [
        "import csv\n",
        "import pandas as pd\n",
        "csvFile = open('tweets.csv', 'w')\n",
        "#Use csv Writer\n",
        "csvWriter = csv.writer(csvFile)\n",
        "csvWriter.writerow([\"date\",\"tweet\"] )\n",
        "for tweet in tweepy.Cursor(api.search,q=\"#K20Pro\",count=20,\n",
        "                           lang=\"en\",\n",
        "                           since=\"2019-01-01\").items():\n",
        "    print (tweet.created_at, tweet.text)\n",
        "    csvWriter.writerow([tweet.created_at, tweet.text.encode('utf-8')])"
      ],
      "execution_count": 56,
      "outputs": [
        {
          "output_type": "error",
          "ename": "TweepError",
          "evalue": "ignored",
          "traceback": [
            "\u001b[0;31m---------------------------------------------------------------------------\u001b[0m",
            "\u001b[0;31mTweepError\u001b[0m                                Traceback (most recent call last)",
            "\u001b[0;32m<ipython-input-56-3585d68500b7>\u001b[0m in \u001b[0;36m<module>\u001b[0;34m()\u001b[0m\n\u001b[1;32m      7\u001b[0m for tweet in tweepy.Cursor(api.search,q=\"#K20Pro\",count=20,\n\u001b[1;32m      8\u001b[0m                            \u001b[0mlang\u001b[0m\u001b[0;34m=\u001b[0m\u001b[0;34m\"en\"\u001b[0m\u001b[0;34m,\u001b[0m\u001b[0;34m\u001b[0m\u001b[0;34m\u001b[0m\u001b[0m\n\u001b[0;32m----> 9\u001b[0;31m                            since=\"2019-01-01\").items():\n\u001b[0m\u001b[1;32m     10\u001b[0m     \u001b[0mprint\u001b[0m \u001b[0;34m(\u001b[0m\u001b[0mtweet\u001b[0m\u001b[0;34m.\u001b[0m\u001b[0mcreated_at\u001b[0m\u001b[0;34m,\u001b[0m \u001b[0mtweet\u001b[0m\u001b[0;34m.\u001b[0m\u001b[0mtext\u001b[0m\u001b[0;34m)\u001b[0m\u001b[0;34m\u001b[0m\u001b[0;34m\u001b[0m\u001b[0m\n\u001b[1;32m     11\u001b[0m     \u001b[0mcsvWriter\u001b[0m\u001b[0;34m.\u001b[0m\u001b[0mwriterow\u001b[0m\u001b[0;34m(\u001b[0m\u001b[0;34m[\u001b[0m\u001b[0mtweet\u001b[0m\u001b[0;34m.\u001b[0m\u001b[0mcreated_at\u001b[0m\u001b[0;34m,\u001b[0m \u001b[0mtweet\u001b[0m\u001b[0;34m.\u001b[0m\u001b[0mtext\u001b[0m\u001b[0;34m.\u001b[0m\u001b[0mencode\u001b[0m\u001b[0;34m(\u001b[0m\u001b[0;34m'utf-8'\u001b[0m\u001b[0;34m)\u001b[0m\u001b[0;34m]\u001b[0m\u001b[0;34m)\u001b[0m\u001b[0;34m\u001b[0m\u001b[0;34m\u001b[0m\u001b[0m\n",
            "\u001b[0;32m/usr/local/lib/python3.6/dist-packages/tweepy/cursor.py\u001b[0m in \u001b[0;36m__next__\u001b[0;34m(self)\u001b[0m\n\u001b[1;32m     47\u001b[0m \u001b[0;34m\u001b[0m\u001b[0m\n\u001b[1;32m     48\u001b[0m     \u001b[0;32mdef\u001b[0m \u001b[0m__next__\u001b[0m\u001b[0;34m(\u001b[0m\u001b[0mself\u001b[0m\u001b[0;34m)\u001b[0m\u001b[0;34m:\u001b[0m\u001b[0;34m\u001b[0m\u001b[0;34m\u001b[0m\u001b[0m\n\u001b[0;32m---> 49\u001b[0;31m         \u001b[0;32mreturn\u001b[0m \u001b[0mself\u001b[0m\u001b[0;34m.\u001b[0m\u001b[0mnext\u001b[0m\u001b[0;34m(\u001b[0m\u001b[0;34m)\u001b[0m\u001b[0;34m\u001b[0m\u001b[0;34m\u001b[0m\u001b[0m\n\u001b[0m\u001b[1;32m     50\u001b[0m \u001b[0;34m\u001b[0m\u001b[0m\n\u001b[1;32m     51\u001b[0m     \u001b[0;32mdef\u001b[0m \u001b[0mnext\u001b[0m\u001b[0;34m(\u001b[0m\u001b[0mself\u001b[0m\u001b[0;34m)\u001b[0m\u001b[0;34m:\u001b[0m\u001b[0;34m\u001b[0m\u001b[0;34m\u001b[0m\u001b[0m\n",
            "\u001b[0;32m/usr/local/lib/python3.6/dist-packages/tweepy/cursor.py\u001b[0m in \u001b[0;36mnext\u001b[0;34m(self)\u001b[0m\n\u001b[1;32m    195\u001b[0m         \u001b[0;32mif\u001b[0m \u001b[0mself\u001b[0m\u001b[0;34m.\u001b[0m\u001b[0mcurrent_page\u001b[0m \u001b[0;32mis\u001b[0m \u001b[0;32mNone\u001b[0m \u001b[0;32mor\u001b[0m \u001b[0mself\u001b[0m\u001b[0;34m.\u001b[0m\u001b[0mpage_index\u001b[0m \u001b[0;34m==\u001b[0m \u001b[0mlen\u001b[0m\u001b[0;34m(\u001b[0m\u001b[0mself\u001b[0m\u001b[0;34m.\u001b[0m\u001b[0mcurrent_page\u001b[0m\u001b[0;34m)\u001b[0m \u001b[0;34m-\u001b[0m \u001b[0;36m1\u001b[0m\u001b[0;34m:\u001b[0m\u001b[0;34m\u001b[0m\u001b[0;34m\u001b[0m\u001b[0m\n\u001b[1;32m    196\u001b[0m             \u001b[0;31m# Reached end of current page, get the next page...\u001b[0m\u001b[0;34m\u001b[0m\u001b[0;34m\u001b[0m\u001b[0;34m\u001b[0m\u001b[0m\n\u001b[0;32m--> 197\u001b[0;31m             \u001b[0mself\u001b[0m\u001b[0;34m.\u001b[0m\u001b[0mcurrent_page\u001b[0m \u001b[0;34m=\u001b[0m \u001b[0mself\u001b[0m\u001b[0;34m.\u001b[0m\u001b[0mpage_iterator\u001b[0m\u001b[0;34m.\u001b[0m\u001b[0mnext\u001b[0m\u001b[0;34m(\u001b[0m\u001b[0;34m)\u001b[0m\u001b[0;34m\u001b[0m\u001b[0;34m\u001b[0m\u001b[0m\n\u001b[0m\u001b[1;32m    198\u001b[0m             \u001b[0mself\u001b[0m\u001b[0;34m.\u001b[0m\u001b[0mpage_index\u001b[0m \u001b[0;34m=\u001b[0m \u001b[0;34m-\u001b[0m\u001b[0;36m1\u001b[0m\u001b[0;34m\u001b[0m\u001b[0;34m\u001b[0m\u001b[0m\n\u001b[1;32m    199\u001b[0m         \u001b[0mself\u001b[0m\u001b[0;34m.\u001b[0m\u001b[0mpage_index\u001b[0m \u001b[0;34m+=\u001b[0m \u001b[0;36m1\u001b[0m\u001b[0;34m\u001b[0m\u001b[0;34m\u001b[0m\u001b[0m\n",
            "\u001b[0;32m/usr/local/lib/python3.6/dist-packages/tweepy/cursor.py\u001b[0m in \u001b[0;36mnext\u001b[0;34m(self)\u001b[0m\n\u001b[1;32m    106\u001b[0m \u001b[0;34m\u001b[0m\u001b[0m\n\u001b[1;32m    107\u001b[0m         \u001b[0;32mif\u001b[0m \u001b[0mself\u001b[0m\u001b[0;34m.\u001b[0m\u001b[0mindex\u001b[0m \u001b[0;34m>=\u001b[0m \u001b[0mlen\u001b[0m\u001b[0;34m(\u001b[0m\u001b[0mself\u001b[0m\u001b[0;34m.\u001b[0m\u001b[0mresults\u001b[0m\u001b[0;34m)\u001b[0m \u001b[0;34m-\u001b[0m \u001b[0;36m1\u001b[0m\u001b[0;34m:\u001b[0m\u001b[0;34m\u001b[0m\u001b[0;34m\u001b[0m\u001b[0m\n\u001b[0;32m--> 108\u001b[0;31m             \u001b[0mdata\u001b[0m \u001b[0;34m=\u001b[0m \u001b[0mself\u001b[0m\u001b[0;34m.\u001b[0m\u001b[0mmethod\u001b[0m\u001b[0;34m(\u001b[0m\u001b[0mmax_id\u001b[0m\u001b[0;34m=\u001b[0m\u001b[0mself\u001b[0m\u001b[0;34m.\u001b[0m\u001b[0mmax_id\u001b[0m\u001b[0;34m,\u001b[0m \u001b[0mparser\u001b[0m\u001b[0;34m=\u001b[0m\u001b[0mRawParser\u001b[0m\u001b[0;34m(\u001b[0m\u001b[0;34m)\u001b[0m\u001b[0;34m,\u001b[0m \u001b[0;34m*\u001b[0m\u001b[0mself\u001b[0m\u001b[0;34m.\u001b[0m\u001b[0margs\u001b[0m\u001b[0;34m,\u001b[0m \u001b[0;34m**\u001b[0m\u001b[0mself\u001b[0m\u001b[0;34m.\u001b[0m\u001b[0mkargs\u001b[0m\u001b[0;34m)\u001b[0m\u001b[0;34m\u001b[0m\u001b[0;34m\u001b[0m\u001b[0m\n\u001b[0m\u001b[1;32m    109\u001b[0m \u001b[0;34m\u001b[0m\u001b[0m\n\u001b[1;32m    110\u001b[0m             \u001b[0;32mif\u001b[0m \u001b[0mhasattr\u001b[0m\u001b[0;34m(\u001b[0m\u001b[0mself\u001b[0m\u001b[0;34m.\u001b[0m\u001b[0mmethod\u001b[0m\u001b[0;34m,\u001b[0m \u001b[0;34m'__self__'\u001b[0m\u001b[0;34m)\u001b[0m\u001b[0;34m:\u001b[0m\u001b[0;34m\u001b[0m\u001b[0;34m\u001b[0m\u001b[0m\n",
            "\u001b[0;32m/usr/local/lib/python3.6/dist-packages/tweepy/binder.py\u001b[0m in \u001b[0;36m_call\u001b[0;34m(*args, **kwargs)\u001b[0m\n\u001b[1;32m    248\u001b[0m             \u001b[0;32mreturn\u001b[0m \u001b[0mmethod\u001b[0m\u001b[0;34m\u001b[0m\u001b[0;34m\u001b[0m\u001b[0m\n\u001b[1;32m    249\u001b[0m         \u001b[0;32melse\u001b[0m\u001b[0;34m:\u001b[0m\u001b[0;34m\u001b[0m\u001b[0;34m\u001b[0m\u001b[0m\n\u001b[0;32m--> 250\u001b[0;31m             \u001b[0;32mreturn\u001b[0m \u001b[0mmethod\u001b[0m\u001b[0;34m.\u001b[0m\u001b[0mexecute\u001b[0m\u001b[0;34m(\u001b[0m\u001b[0;34m)\u001b[0m\u001b[0;34m\u001b[0m\u001b[0;34m\u001b[0m\u001b[0m\n\u001b[0m\u001b[1;32m    251\u001b[0m \u001b[0;34m\u001b[0m\u001b[0m\n\u001b[1;32m    252\u001b[0m     \u001b[0;31m# Set pagination mode\u001b[0m\u001b[0;34m\u001b[0m\u001b[0;34m\u001b[0m\u001b[0;34m\u001b[0m\u001b[0m\n",
            "\u001b[0;32m/usr/local/lib/python3.6/dist-packages/tweepy/binder.py\u001b[0m in \u001b[0;36mexecute\u001b[0;34m(self)\u001b[0m\n\u001b[1;32m    232\u001b[0m                     \u001b[0;32mraise\u001b[0m \u001b[0mRateLimitError\u001b[0m\u001b[0;34m(\u001b[0m\u001b[0merror_msg\u001b[0m\u001b[0;34m,\u001b[0m \u001b[0mresp\u001b[0m\u001b[0;34m)\u001b[0m\u001b[0;34m\u001b[0m\u001b[0;34m\u001b[0m\u001b[0m\n\u001b[1;32m    233\u001b[0m                 \u001b[0;32melse\u001b[0m\u001b[0;34m:\u001b[0m\u001b[0;34m\u001b[0m\u001b[0;34m\u001b[0m\u001b[0m\n\u001b[0;32m--> 234\u001b[0;31m                     \u001b[0;32mraise\u001b[0m \u001b[0mTweepError\u001b[0m\u001b[0;34m(\u001b[0m\u001b[0merror_msg\u001b[0m\u001b[0;34m,\u001b[0m \u001b[0mresp\u001b[0m\u001b[0;34m,\u001b[0m \u001b[0mapi_code\u001b[0m\u001b[0;34m=\u001b[0m\u001b[0mapi_error_code\u001b[0m\u001b[0;34m)\u001b[0m\u001b[0;34m\u001b[0m\u001b[0;34m\u001b[0m\u001b[0m\n\u001b[0m\u001b[1;32m    235\u001b[0m \u001b[0;34m\u001b[0m\u001b[0m\n\u001b[1;32m    236\u001b[0m             \u001b[0;31m# Parse the response payload\u001b[0m\u001b[0;34m\u001b[0m\u001b[0;34m\u001b[0m\u001b[0;34m\u001b[0m\u001b[0m\n",
            "\u001b[0;31mTweepError\u001b[0m: Twitter error response: status code = 429"
          ]
        }
      ]
    },
    {
      "cell_type": "code",
      "metadata": {
        "id": "hDFk2tsHNHL0",
        "colab_type": "code",
        "colab": {}
      },
      "source": [
        "df=pd.read_csv(\"tweets.csv\")\n",
        "from nltk.stem import PorterStemmer\n",
        "from nltk.tokenize import sent_tokenize, word_tokenize"
      ],
      "execution_count": 0,
      "outputs": []
    },
    {
      "cell_type": "code",
      "metadata": {
        "id": "S_sEet3IXsao",
        "colab_type": "code",
        "colab": {
          "base_uri": "https://localhost:8080/",
          "height": 204
        },
        "outputId": "9bbee411-ad27-4fa0-b5f7-2cadbcdc7bf6"
      },
      "source": [
        "df.head()"
      ],
      "execution_count": 46,
      "outputs": [
        {
          "output_type": "execute_result",
          "data": {
            "text/html": [
              "<div>\n",
              "<style scoped>\n",
              "    .dataframe tbody tr th:only-of-type {\n",
              "        vertical-align: middle;\n",
              "    }\n",
              "\n",
              "    .dataframe tbody tr th {\n",
              "        vertical-align: top;\n",
              "    }\n",
              "\n",
              "    .dataframe thead th {\n",
              "        text-align: right;\n",
              "    }\n",
              "</style>\n",
              "<table border=\"1\" class=\"dataframe\">\n",
              "  <thead>\n",
              "    <tr style=\"text-align: right;\">\n",
              "      <th></th>\n",
              "      <th>date</th>\n",
              "      <th>tweet</th>\n",
              "    </tr>\n",
              "  </thead>\n",
              "  <tbody>\n",
              "    <tr>\n",
              "      <th>0</th>\n",
              "      <td>2019-07-16 06:08:09</td>\n",
              "      <td>b\"RT @sanghamitra_4: Now trend #HappyBirthdayK...</td>\n",
              "    </tr>\n",
              "    <tr>\n",
              "      <th>1</th>\n",
              "      <td>2019-07-16 06:07:58</td>\n",
              "      <td>b'Happy Birthday Beauty Queen \\n\\n#HappyBirthd...</td>\n",
              "    </tr>\n",
              "    <tr>\n",
              "      <th>2</th>\n",
              "      <td>2019-07-16 06:07:49</td>\n",
              "      <td>b'RT @KatrinaKaif_INA: Many years ago on this ...</td>\n",
              "    </tr>\n",
              "    <tr>\n",
              "      <th>3</th>\n",
              "      <td>2019-07-16 06:07:47</td>\n",
              "      <td>b'RT @pinkvilla: #HappyBirthdayKatrinaKaif: Th...</td>\n",
              "    </tr>\n",
              "    <tr>\n",
              "      <th>4</th>\n",
              "      <td>2019-07-16 06:07:45</td>\n",
              "      <td>b'Happy birthday Katrina kaif,\\nMay god bless ...</td>\n",
              "    </tr>\n",
              "  </tbody>\n",
              "</table>\n",
              "</div>"
            ],
            "text/plain": [
              "                  date                                              tweet\n",
              "0  2019-07-16 06:08:09  b\"RT @sanghamitra_4: Now trend #HappyBirthdayK...\n",
              "1  2019-07-16 06:07:58  b'Happy Birthday Beauty Queen \\n\\n#HappyBirthd...\n",
              "2  2019-07-16 06:07:49  b'RT @KatrinaKaif_INA: Many years ago on this ...\n",
              "3  2019-07-16 06:07:47  b'RT @pinkvilla: #HappyBirthdayKatrinaKaif: Th...\n",
              "4  2019-07-16 06:07:45  b'Happy birthday Katrina kaif,\\nMay god bless ..."
            ]
          },
          "metadata": {
            "tags": []
          },
          "execution_count": 46
        }
      ]
    },
    {
      "cell_type": "code",
      "metadata": {
        "id": "H2vySIu8WdnI",
        "colab_type": "code",
        "colab": {}
      },
      "source": [
        "ps = PorterStemmer()\n",
        "column=df['tweet']\n"
      ],
      "execution_count": 0,
      "outputs": []
    },
    {
      "cell_type": "code",
      "metadata": {
        "id": "xtpp9at9XLyr",
        "colab_type": "code",
        "colab": {
          "base_uri": "https://localhost:8080/",
          "height": 1000
        },
        "outputId": "352db894-fab6-4b4b-d1a7-7ecbebbe0ab9"
      },
      "source": [
        "column"
      ],
      "execution_count": 49,
      "outputs": [
        {
          "output_type": "execute_result",
          "data": {
            "text/plain": [
              "0       b\"RT @sanghamitra_4: Now trend #HappyBirthdayK...\n",
              "1       b'Happy Birthday Beauty Queen \\n\\n#HappyBirthd...\n",
              "2       b'RT @KatrinaKaif_INA: Many years ago on this ...\n",
              "3       b'RT @pinkvilla: #HappyBirthdayKatrinaKaif: Th...\n",
              "4       b'Happy birthday Katrina kaif,\\nMay god bless ...\n",
              "5       b'may guru bless my life\\n#GuruPurnima2019\\n#G...\n",
              "6       b'RT @girishjohar: Wishing the super gorgeous,...\n",
              "7       b'#HappyBirthdayKatrinaKaif \\n Heart warming w...\n",
              "8       b'RT @iSalmansCombat: #SalmanKhan has been an ...\n",
              "9       b'My lady crush !  #HappyBirthdayKatrinaKaif \\...\n",
              "10      b'#KatrinaKaif was first cast by Mahesh Bhatt ...\n",
              "11      b\"Happiest Birthday, Katrina\\xf0\\x9f\\xa6\\x8b\\x...\n",
              "12      b'RT @KatrinaKaif_INA: Many years ago on this ...\n",
              "13      b'RT @i_akks: I remember how i used to get exc...\n",
              "14      b'RT @SRKUniverse: Their chemistry is somethin...\n",
              "15      b'RT @SoulSplendours: Box-office failures, rel...\n",
              "16      b'Happy birthday Katrina...wishing a blockbust...\n",
              "17      b\"RT @RedChilliesEnt: Always setting our heart...\n",
              "18      b\"RT @RedChilliesEnt: Always setting our heart...\n",
              "19      b'RT @rishabhmishra_: 1. 30-40 tweets per acco...\n",
              "20      b'RT @DasiRig: #HappyBirthdayKatrinaKaif \\nGit...\n",
              "21      b\"RT @RedChilliesEnt: Always setting our heart...\n",
              "22      b'RT @SRKCHENNAIFC: Happy Birthday to very bea...\n",
              "23      b'Madam Sir ka Jaadu ..\\nHappy Birthday Boss L...\n",
              "24      b'RT @Being_Zeeshan09: Happy Birthday #Katrina...\n",
              "25      b'RT @MojumdarMonisha: #HappyBirthdayKatrinaKa...\n",
              "26      b\"RT @TheQuint: #HappyBirthdayKatrinaKaif! Her...\n",
              "27      b'#HappyBirthdayKatrinaKaif \\nGita chapter 15,...\n",
              "28      b\"RT @RedChilliesEnt: Always setting our heart...\n",
              "29      b'RT @filmibeat: Happy Birthday Katrina Kaif: ...\n",
              "                              ...                        \n",
              "1238    b'RT @starneelima: Because it her birthday \\xf...\n",
              "1239    b'RT @prafulwaghmare3: Happy birthday to the M...\n",
              "1240    b'RT @teamsrknepal: #HappyBirthdayKatrinaKaif\\...\n",
              "1241    b'RT @PrinceGaneshMB: Happy Birthday to Gorgeo...\n",
              "1242    b'RT @Farida92373515: Happy birthday to the gi...\n",
              "1243    b\"RT @Nani4u143: 'I've Not Taken AnyTime Off F...\n",
              "1244    b'RT @Navya888999: There is no word can descri...\n",
              "1245    b'RT @SalkatSamm: Kiss fantasy\\n#HappyBirthday...\n",
              "1246    b'RT @agscinemas: #HappyBirthdayKatrinaKaif\\nW...\n",
              "1247    b'RT @i_akks: This smile is what matters the m...\n",
              "1248    b'RT @Being_Zeeshan09: #HappyBirthdayKatrinaKa...\n",
              "1249    b'RT @Akshit999944444: Wishing u a very happy ...\n",
              "1250    b'RT @JOojbustun: The most precious face in th...\n",
              "1251    b'RT @iamJagatjit45: Wishing the Gorgeous, Bea...\n",
              "1252    b'RT @SalkatSamm: Behind the scene love.\\n#Hap...\n",
              "1253    b'RT @sinchan21029371: who knew that someday t...\n",
              "1254    b\"RT @aadisrkian1: Happy Birthday #KatrinaKaif...\n",
              "1255    b\"RT @kaifstan: someone who has impacted my li...\n",
              "1256    b\"RT @DHFV_Off: She's A Synonym Of Beauty And ...\n",
              "1257    b'RT @htshowbiz: #HappyBirthdayKatrinaKaif: On...\n",
              "1258    b'From a quiet British child doesn\\xe2\\x80\\x99...\n",
              "1259    b'RT @foxstarhindi: Bang Bang, your one ada sh...\n",
              "1260    b'I Fall in love with ur beauty when 1st tym s...\n",
              "1261    b\"RT @RedChilliesEnt: Always setting our heart...\n",
              "1262    b'Happy Birthday to Gorgeous Actress Katrina K...\n",
              "1263    b'RT @tarahbGlebss: #HappyBirthdayKatrinaKaif ...\n",
              "1264    b\"She entered in #Bollywood &amp; she is rulin...\n",
              "1265    b'RT @starneelima: Because it her birthday \\xf...\n",
              "1266    b'RT @SRKsRihaana: SRK - there r times whn i f...\n",
              "1267    b\"Did Suraiyya take your Jaan? Did Babita take...\n",
              "Name: tweet, Length: 1268, dtype: object"
            ]
          },
          "metadata": {
            "tags": []
          },
          "execution_count": 49
        }
      ]
    },
    {
      "cell_type": "code",
      "metadata": {
        "id": "obvocpbGXUZL",
        "colab_type": "code",
        "colab": {}
      },
      "source": [
        ""
      ],
      "execution_count": 0,
      "outputs": []
    }
  ]
}